{
 "cells": [
  {
   "cell_type": "code",
   "execution_count": 11,
   "id": "eabe3b9f-fe45-4276-9e88-800df9854d4c",
   "metadata": {},
   "outputs": [],
   "source": [
    "import cv2\n",
    "import matplotlib.pyplot as plt\n",
    "import numpy as np"
   ]
  },
  {
   "cell_type": "code",
   "execution_count": 3,
   "id": "92fdc1e4-6e63-4763-8201-4ed89471e14e",
   "metadata": {},
   "outputs": [],
   "source": [
    "cap.release()\n",
    "cv2.destroyAllWindows()"
   ]
  },
  {
   "cell_type": "code",
   "execution_count": 4,
   "id": "3143b967-d40f-475a-a364-2c4793995bc4",
   "metadata": {},
   "outputs": [],
   "source": [
    "face=cv2.CascadeClassifier('haarcascade_frontalface_default.xml')\n",
    "cap=cv2.VideoCapture(0)\n",
    "dataforface_withoutmask=[]\n",
    "while 1:\n",
    "    ret,img=cap.read()\n",
    "    faces=face.detectMultiScale(img)\n",
    "    for x,y,w,h in faces:\n",
    "        cv2.rectangle(img,(x,y),(x+w,y+h),(255,255,0),2)\n",
    "        f=img[y:y+h,x:x+w,:]\n",
    "        f=cv2.resize(f,(50,50))\n",
    "        if len(dataforface_withoutmask)<400:\n",
    "            dataforface_withoutmask.append(f)\n",
    "    cv2.imshow('img',img)\n",
    "    if (cv2.waitKey(2)==27 or len(dataforface_withoutmask)>=200):\n",
    "        break\n",
    "cap.release()\n",
    "cv2.destroyAllWindows()\n"
   ]
  },
  {
   "cell_type": "code",
   "execution_count": 6,
   "id": "7486ac19-408c-41e7-b48f-9e450e5c98f7",
   "metadata": {},
   "outputs": [],
   "source": [
    "np.save('without mask.npy',dataforface_withoutmask)"
   ]
  },
  {
   "cell_type": "code",
   "execution_count": 7,
   "id": "4c5ac468-bfe8-41ef-ba70-aa5443f57eaa",
   "metadata": {},
   "outputs": [],
   "source": [
    "\n",
    "cap=cv2.VideoCapture(0)\n",
    "dataforface_withmask=[]\n",
    "while 1:\n",
    "    ret,img=cap.read()\n",
    "    faces=face.detectMultiScale(img)\n",
    "    for x,y,w,h in faces:\n",
    "        cv2.rectangle(img,(x,y),(x+w,y+h),(255,255,0),2)\n",
    "        f=img[y:y+h,x:x+w,:]\n",
    "        f=cv2.resize(f,(50,50))\n",
    "        if len(dataforface_withmask)<400:\n",
    "            dataforface_withmask.append(f)\n",
    "    cv2.imshow('img',img)\n",
    "    if (cv2.waitKey(2)==27 or len(dataforface_withmask)>=200):\n",
    "        break\n",
    "cap.release()\n",
    "cv2.destroyAllWindows()\n"
   ]
  },
  {
   "cell_type": "code",
   "execution_count": 8,
   "id": "75106110-d6d3-4e57-a11b-3cd2cfbfa018",
   "metadata": {},
   "outputs": [],
   "source": [
    "np.save('with mask.npy',dataforface_withmask)"
   ]
  },
  {
   "cell_type": "code",
   "execution_count": 12,
   "id": "4f2c07ce-2ad3-4236-aa02-6d0da7854904",
   "metadata": {},
   "outputs": [
    {
     "data": {
      "text/plain": [
       "<matplotlib.image.AxesImage at 0x1b144e46010>"
      ]
     },
     "execution_count": 12,
     "metadata": {},
     "output_type": "execute_result"
    },
    {
     "data": {
      "image/png": "[encoded data removed]",
      "text/plain": [
       "<Figure size 640x480 with 1 Axes>"
      ]
     },
     "metadata": {},
     "output_type": "display_data"
    }
   ],
   "source": [
    "plt.imshow(dataforface_withmask[0])"
   ]
  },
  {
   "cell_type": "code",
   "execution_count": null,
   "id": "00ba279b-41b0-468f-955d-2c47a4aa45c7",
   "metadata": {},
   "outputs": [],
   "source": []
  }
 ],
 "metadata": {
  "kernelspec": {
   "display_name": "Python 3 (ipykernel)",
   "language": "python",
   "name": "python3"
  },
  "language_info": {
   "codemirror_mode": {
    "name": "ipython",
    "version": 3
   },
   "file_extension": ".py",
   "mimetype": "text/x-python",
   "name": "python",
   "nbconvert_exporter": "python",
   "pygments_lexer": "ipython3",
   "version": "3.11.4"
  }
 },
 "nbformat": 4,
 "nbformat_minor": 5
}
